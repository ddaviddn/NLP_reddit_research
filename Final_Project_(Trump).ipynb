{
  "nbformat": 4,
  "nbformat_minor": 0,
  "metadata": {
    "kernelspec": {
      "display_name": "Python 3",
      "language": "python",
      "name": "python3"
    },
    "language_info": {
      "codemirror_mode": {
        "name": "ipython",
        "version": 3
      },
      "file_extension": ".py",
      "mimetype": "text/x-python",
      "name": "python",
      "nbconvert_exporter": "python",
      "pygments_lexer": "ipython3",
      "version": "3.8.5"
    },
    "colab": {
      "name": "Final Project (Trump).ipynb",
      "provenance": [],
      "collapsed_sections": [],
      "machine_shape": "hm"
    },
    "accelerator": "GPU"
  },
  "cells": [
    {
      "cell_type": "markdown",
      "metadata": {
        "id": "4IAC48sqT6_8"
      },
      "source": [
        "# Text Processing just for Trump Data and creating word embeddings"
      ]
    },
    {
      "cell_type": "code",
      "metadata": {
        "id": "DTqJ5vaPT_h0"
      },
      "source": [
        "import pandas as pd\n",
        "import numpy as np\n",
        "import matplotlib.pyplot as plt\n",
        "import os\n",
        "import pickle\n",
        "import gensim.models\n",
        "\n",
        "from sklearn.manifold import TSNE\n",
        "\n",
        "plt.style.use('ggplot')"
      ],
      "execution_count": null,
      "outputs": []
    },
    {
      "cell_type": "code",
      "metadata": {
        "id": "YcQKQrnST_h4"
      },
      "source": [
        "def last_preprocess(table_name):\n",
        "    \n",
        "    table_name = table_name[table_name['body'].notnull()]\n",
        "    \n",
        "    # Turning each comment into a vector of words\n",
        "    table_name['body'] = table_name['body'].apply(lambda x: x.split(' '))\n",
        "\n",
        "    # Removing single letter words for this context\n",
        "    table_name['body'] = table_name['body'].apply(lambda x: [word for word in x if len(word)>1])\n",
        "    \n",
        "    return table_name"
      ],
      "execution_count": null,
      "outputs": []
    },
    {
      "cell_type": "code",
      "metadata": {
        "colab": {
          "base_uri": "https://localhost:8080/"
        },
        "id": "mFtzZiRlnGTV",
        "outputId": "3bdbc4fb-7e9f-4476-982a-9de2aa1a8a8d"
      },
      "source": [
        "from google.colab import drive\n",
        "drive.mount('/content/drive')"
      ],
      "execution_count": null,
      "outputs": [
        {
          "output_type": "stream",
          "text": [
            "Mounted at /content/drive\n"
          ],
          "name": "stdout"
        }
      ]
    },
    {
      "cell_type": "code",
      "metadata": {
        "id": "afp_xxQxnOCF"
      },
      "source": [
        "files = os.listdir('/content/drive/MyDrive')[-7:-1]"
      ],
      "execution_count": null,
      "outputs": []
    },
    {
      "cell_type": "code",
      "metadata": {
        "colab": {
          "base_uri": "https://localhost:8080/"
        },
        "id": "iliLIRZBVMu1",
        "outputId": "e297ceb8-0098-4424-92e2-0193015056d9"
      },
      "source": [
        "random_dict = {}\n",
        "\n",
        "for i in range(len(files)):\n",
        "  random_dict[f'trump{i}'] = last_preprocess(pd.read_csv(f'/content/drive/MyDrive/{files[i]}', index_col = 'Unnamed: 0'))"
      ],
      "execution_count": null,
      "outputs": [
        {
          "output_type": "stream",
          "text": [
            "/usr/local/lib/python3.7/dist-packages/ipykernel_launcher.py:6: SettingWithCopyWarning: \n",
            "A value is trying to be set on a copy of a slice from a DataFrame.\n",
            "Try using .loc[row_indexer,col_indexer] = value instead\n",
            "\n",
            "See the caveats in the documentation: https://pandas.pydata.org/pandas-docs/stable/user_guide/indexing.html#returning-a-view-versus-a-copy\n",
            "  \n",
            "/usr/local/lib/python3.7/dist-packages/ipykernel_launcher.py:9: SettingWithCopyWarning: \n",
            "A value is trying to be set on a copy of a slice from a DataFrame.\n",
            "Try using .loc[row_indexer,col_indexer] = value instead\n",
            "\n",
            "See the caveats in the documentation: https://pandas.pydata.org/pandas-docs/stable/user_guide/indexing.html#returning-a-view-versus-a-copy\n",
            "  if __name__ == '__main__':\n",
            "/usr/local/lib/python3.7/dist-packages/numpy/lib/arraysetops.py:580: FutureWarning: elementwise comparison failed; returning scalar instead, but in the future will perform elementwise comparison\n",
            "  mask |= (ar1 == a)\n"
          ],
          "name": "stderr"
        }
      ]
    },
    {
      "cell_type": "code",
      "metadata": {
        "colab": {
          "base_uri": "https://localhost:8080/",
          "height": 417
        },
        "id": "t_GaUcujeiZ0",
        "outputId": "428f5766-ab07-43e6-e660-9baea1ecf287"
      },
      "source": [
        "trump_df = pd.concat([random_dict['trump0'], random_dict['trump1'], random_dict['trump2'],\n",
        "                        random_dict['trump3'], random_dict['trump4'], random_dict['trump5']])\n",
        "\n",
        "trump_df"
      ],
      "execution_count": null,
      "outputs": [
        {
          "output_type": "execute_result",
          "data": {
            "text/html": [
              "<div>\n",
              "<style scoped>\n",
              "    .dataframe tbody tr th:only-of-type {\n",
              "        vertical-align: middle;\n",
              "    }\n",
              "\n",
              "    .dataframe tbody tr th {\n",
              "        vertical-align: top;\n",
              "    }\n",
              "\n",
              "    .dataframe thead th {\n",
              "        text-align: right;\n",
              "    }\n",
              "</style>\n",
              "<table border=\"1\" class=\"dataframe\">\n",
              "  <thead>\n",
              "    <tr style=\"text-align: right;\">\n",
              "      <th></th>\n",
              "      <th>body</th>\n",
              "    </tr>\n",
              "  </thead>\n",
              "  <tbody>\n",
              "    <tr>\n",
              "      <th>0</th>\n",
              "      <td>[he, be, so, base, it, even, rub, off, on, the...</td>\n",
              "    </tr>\n",
              "    <tr>\n",
              "      <th>1</th>\n",
              "      <td>[you, can, get, good, shot, of, all, or, most,...</td>\n",
              "    </tr>\n",
              "    <tr>\n",
              "      <th>2</th>\n",
              "      <td>[this, message, be, bring, to, you, by, the, c...</td>\n",
              "    </tr>\n",
              "    <tr>\n",
              "      <th>4</th>\n",
              "      <td>[actually, they, have, over, two, billion, fol...</td>\n",
              "    </tr>\n",
              "    <tr>\n",
              "      <th>5</th>\n",
              "      <td>[poltics, be, always, such, shitshow, anyway, ...</td>\n",
              "    </tr>\n",
              "    <tr>\n",
              "      <th>...</th>\n",
              "      <td>...</td>\n",
              "    </tr>\n",
              "    <tr>\n",
              "      <th>1584986</th>\n",
              "      <td>[would, if, could]</td>\n",
              "    </tr>\n",
              "    <tr>\n",
              "      <th>1584987</th>\n",
              "      <td>[they, should, ask, the, nyt, apparently, that...</td>\n",
              "    </tr>\n",
              "    <tr>\n",
              "      <th>1584988</th>\n",
              "      <td>[be, still, choke, that, chaffetz, block, me, ...</td>\n",
              "    </tr>\n",
              "    <tr>\n",
              "      <th>1584989</th>\n",
              "      <td>[death, by, natural, cause, barbell, no, doubt]</td>\n",
              "    </tr>\n",
              "    <tr>\n",
              "      <th>1584990</th>\n",
              "      <td>[it, be, deception, if, they, call, their, har...</td>\n",
              "    </tr>\n",
              "  </tbody>\n",
              "</table>\n",
              "<p>7834516 rows × 1 columns</p>\n",
              "</div>"
            ],
            "text/plain": [
              "                                                      body\n",
              "0        [he, be, so, base, it, even, rub, off, on, the...\n",
              "1        [you, can, get, good, shot, of, all, or, most,...\n",
              "2        [this, message, be, bring, to, you, by, the, c...\n",
              "4        [actually, they, have, over, two, billion, fol...\n",
              "5        [poltics, be, always, such, shitshow, anyway, ...\n",
              "...                                                    ...\n",
              "1584986                                 [would, if, could]\n",
              "1584987  [they, should, ask, the, nyt, apparently, that...\n",
              "1584988  [be, still, choke, that, chaffetz, block, me, ...\n",
              "1584989    [death, by, natural, cause, barbell, no, doubt]\n",
              "1584990  [it, be, deception, if, they, call, their, har...\n",
              "\n",
              "[7834516 rows x 1 columns]"
            ]
          },
          "metadata": {
            "tags": []
          },
          "execution_count": 8
        }
      ]
    },
    {
      "cell_type": "code",
      "metadata": {
        "id": "hEtWqqvbg97_",
        "colab": {
          "base_uri": "https://localhost:8080/"
        },
        "outputId": "63042e96-81d8-4387-d517-3b894cc77600"
      },
      "source": [
        "trump_cbow = gensim.models.Word2Vec(sentences=trump_df['body'], size=50, window = 5, min_count = 5, workers = 10, sg = 0)\n",
        "\n",
        "trump_skipgram = gensim.models.Word2Vec(sentences=trump_df['body'], size=50, window = 5, min_count = 5, workers = 10, sg = 1)\n",
        "\n",
        "pickle.dump(trump_cbow, open(\"trump_cbow.pkl\", \"wb\"), \n",
        "            protocol=pickle.HIGHEST_PROTOCOL)\n",
        "\n",
        "pickle.dump(trump_skipgram, open(\"trump_sg.pkl\", \"wb\"), \n",
        "            protocol=pickle.HIGHEST_PROTOCOL)\n",
        "\n",
        "print(\"done\")"
      ],
      "execution_count": null,
      "outputs": [
        {
          "output_type": "stream",
          "text": [
            "done\n"
          ],
          "name": "stdout"
        }
      ]
    },
    {
      "cell_type": "code",
      "metadata": {
        "id": "KleG1-7hT_iB"
      },
      "source": [
        "trump_cbow = pickle.load(open('trump_cbow.pkl', 'rb'))\n",
        "trump_sg = pickle.load(open('trump_sg.pkl', 'rb'))"
      ],
      "execution_count": null,
      "outputs": []
    },
    {
      "cell_type": "code",
      "metadata": {
        "id": "G5VzGZudec8j"
      },
      "source": [
        "words = ['word', 'freedom', 'trust', 'radical', 'democracy', 'privacy', 'safety',\n",
        "         'right','police','healthcare','government','restriction','accountability',\n",
        "         'correct','political','cancel','culture','constitution','conventional',\n",
        "         'authoritarian','tradition','leadership']"
      ],
      "execution_count": null,
      "outputs": []
    },
    {
      "cell_type": "code",
      "metadata": {
        "colab": {
          "base_uri": "https://localhost:8080/"
        },
        "id": "iwJ3L1IeeoT_",
        "outputId": "30de01ea-d50b-40d3-8ec3-2f12aa1f24ed"
      },
      "source": [
        "# Does not use the word media\n",
        "\n",
        "vocab_trump_cbow = {}\n",
        "vocab_trump_sg = {}\n",
        "\n",
        "for _ in words:\n",
        "    vocab_trump_cbow[_] = trump_cbow.most_similar(_)\n",
        "    vocab_trump_cg[_] = trump_sg.most_similar(_)"
      ],
      "execution_count": null,
      "outputs": [
        {
          "output_type": "stream",
          "text": [
            "/usr/local/lib/python3.7/dist-packages/ipykernel_launcher.py:9: DeprecationWarning: Call to deprecated `most_similar` (Method will be removed in 4.0.0, use self.wv.most_similar() instead).\n",
            "  if __name__ == '__main__':\n",
            "/usr/local/lib/python3.7/dist-packages/ipykernel_launcher.py:10: DeprecationWarning: Call to deprecated `most_similar` (Method will be removed in 4.0.0, use self.wv.most_similar() instead).\n",
            "  # Remove the CWD from sys.path while we load stuff.\n"
          ],
          "name": "stderr"
        }
      ]
    },
    {
      "cell_type": "code",
      "metadata": {
        "id": "pNsdDr35ivqq"
      },
      "source": [
        "all_words = {}\n",
        "\n",
        "for i in words:\n",
        "  all_words[f'{i}'] = [vocab_trump_cbow[i][j][0] for j in range(len(vocab_trump_cbow[i]))]\n",
        "\n",
        "all_words"
      ],
      "execution_count": null,
      "outputs": []
    },
    {
      "cell_type": "code",
      "metadata": {
        "colab": {
          "base_uri": "https://localhost:8080/",
          "height": 379
        },
        "id": "SQCwi0O8fOCz",
        "outputId": "cce0bd17-5c6d-45b0-d9e3-6d7c459646de"
      },
      "source": [
        "vocab_df = pd.DataFrame(data = all_words)\n",
        "vocab_df"
      ],
      "execution_count": null,
      "outputs": [
        {
          "output_type": "execute_result",
          "data": {
            "text/html": [
              "<div>\n",
              "<style scoped>\n",
              "    .dataframe tbody tr th:only-of-type {\n",
              "        vertical-align: middle;\n",
              "    }\n",
              "\n",
              "    .dataframe tbody tr th {\n",
              "        vertical-align: top;\n",
              "    }\n",
              "\n",
              "    .dataframe thead th {\n",
              "        text-align: right;\n",
              "    }\n",
              "</style>\n",
              "<table border=\"1\" class=\"dataframe\">\n",
              "  <thead>\n",
              "    <tr style=\"text-align: right;\">\n",
              "      <th></th>\n",
              "      <th>word</th>\n",
              "      <th>freedom</th>\n",
              "      <th>trust</th>\n",
              "      <th>radical</th>\n",
              "      <th>democracy</th>\n",
              "      <th>privacy</th>\n",
              "      <th>safety</th>\n",
              "      <th>right</th>\n",
              "      <th>police</th>\n",
              "      <th>healthcare</th>\n",
              "      <th>government</th>\n",
              "      <th>restriction</th>\n",
              "      <th>accountability</th>\n",
              "      <th>correct</th>\n",
              "      <th>political</th>\n",
              "      <th>cancel</th>\n",
              "      <th>culture</th>\n",
              "      <th>constitution</th>\n",
              "      <th>conventional</th>\n",
              "      <th>authoritarian</th>\n",
              "      <th>tradition</th>\n",
              "      <th>leadership</th>\n",
              "    </tr>\n",
              "  </thead>\n",
              "  <tbody>\n",
              "    <tr>\n",
              "      <th>0</th>\n",
              "      <td>phrase</td>\n",
              "      <td>liberty</td>\n",
              "      <td>believe</td>\n",
              "      <td>extremist</td>\n",
              "      <td>republic</td>\n",
              "      <td>anonymity</td>\n",
              "      <td>saftey</td>\n",
              "      <td>now</td>\n",
              "      <td>officer</td>\n",
              "      <td>medicare</td>\n",
              "      <td>govt</td>\n",
              "      <td>restricting</td>\n",
              "      <td>ethic</td>\n",
              "      <td>incorrect</td>\n",
              "      <td>politcal</td>\n",
              "      <td>cancelled</td>\n",
              "      <td>multiculturalism</td>\n",
              "      <td>consitution</td>\n",
              "      <td>dogfight</td>\n",
              "      <td>totalitarian</td>\n",
              "      <td>judeo</td>\n",
              "      <td>leader</td>\n",
              "    </tr>\n",
              "    <tr>\n",
              "      <th>1</th>\n",
              "      <td>meaning</td>\n",
              "      <td>freedoms</td>\n",
              "      <td>unknow</td>\n",
              "      <td>fundamentalist</td>\n",
              "      <td>tyranny</td>\n",
              "      <td>personal</td>\n",
              "      <td>protection</td>\n",
              "      <td>winger</td>\n",
              "      <td>policeman</td>\n",
              "      <td>nhs</td>\n",
              "      <td>goverment</td>\n",
              "      <td>regulation</td>\n",
              "      <td>responsibility</td>\n",
              "      <td>misunderstand</td>\n",
              "      <td>poltical</td>\n",
              "      <td>cancellation</td>\n",
              "      <td>cultural</td>\n",
              "      <td>fourteenth</td>\n",
              "      <td>capability</td>\n",
              "      <td>statist</td>\n",
              "      <td>observance</td>\n",
              "      <td>position</td>\n",
              "    </tr>\n",
              "    <tr>\n",
              "      <th>2</th>\n",
              "      <td>quotation</td>\n",
              "      <td>individuality</td>\n",
              "      <td>belive</td>\n",
              "      <td>islamist</td>\n",
              "      <td>dictatorship</td>\n",
              "      <td>stripping</td>\n",
              "      <td>impinge</td>\n",
              "      <td>rightalt</td>\n",
              "      <td>cop</td>\n",
              "      <td>socialized</td>\n",
              "      <td>governement</td>\n",
              "      <td>restrict</td>\n",
              "      <td>transparency</td>\n",
              "      <td>wrong</td>\n",
              "      <td>politicial</td>\n",
              "      <td>announce</td>\n",
              "      <td>western</td>\n",
              "      <td>framer</td>\n",
              "      <td>deterrence</td>\n",
              "      <td>illiberal</td>\n",
              "      <td>bastardisation</td>\n",
              "      <td>cabel</td>\n",
              "    </tr>\n",
              "    <tr>\n",
              "      <th>3</th>\n",
              "      <td>phrasing</td>\n",
              "      <td>feee</td>\n",
              "      <td>trustworthy</td>\n",
              "      <td>extremism</td>\n",
              "      <td>sovereignty</td>\n",
              "      <td>pii</td>\n",
              "      <td>service</td>\n",
              "      <td>infringes</td>\n",
              "      <td>pd</td>\n",
              "      <td>medicaid</td>\n",
              "      <td>governemt</td>\n",
              "      <td>limitation</td>\n",
              "      <td>competence</td>\n",
              "      <td>misread</td>\n",
              "      <td>correctness</td>\n",
              "      <td>tix</td>\n",
              "      <td>subculture</td>\n",
              "      <td>amendments</td>\n",
              "      <td>multirole</td>\n",
              "      <td>collectivist</td>\n",
              "      <td>piety</td>\n",
              "      <td>administration</td>\n",
              "    </tr>\n",
              "    <tr>\n",
              "      <th>4</th>\n",
              "      <td>adjectives</td>\n",
              "      <td>liberties</td>\n",
              "      <td>convince</td>\n",
              "      <td>islamic</td>\n",
              "      <td>pluralist</td>\n",
              "      <td>eula</td>\n",
              "      <td>security</td>\n",
              "      <td>roght</td>\n",
              "      <td>lapd</td>\n",
              "      <td>health</td>\n",
              "      <td>goverments</td>\n",
              "      <td>provision</td>\n",
              "      <td>ethical</td>\n",
              "      <td>misinterpret</td>\n",
              "      <td>poltiical</td>\n",
              "      <td>subscription</td>\n",
              "      <td>bastardisation</td>\n",
              "      <td>amendment</td>\n",
              "      <td>firepower</td>\n",
              "      <td>authoritarians</td>\n",
              "      <td>judaic</td>\n",
              "      <td>transition</td>\n",
              "    </tr>\n",
              "    <tr>\n",
              "      <th>5</th>\n",
              "      <td>verbiage</td>\n",
              "      <td>free</td>\n",
              "      <td>tell</td>\n",
              "      <td>islamism</td>\n",
              "      <td>autocracy</td>\n",
              "      <td>greycoder</td>\n",
              "      <td>wellbeing</td>\n",
              "      <td>adays</td>\n",
              "      <td>cpd</td>\n",
              "      <td>childcare</td>\n",
              "      <td>governmental</td>\n",
              "      <td>prohibition</td>\n",
              "      <td>integrity</td>\n",
              "      <td>clarify</td>\n",
              "      <td>ideological</td>\n",
              "      <td>canceling</td>\n",
              "      <td>passivity</td>\n",
              "      <td>constitutional</td>\n",
              "      <td>weaponry</td>\n",
              "      <td>fascistic</td>\n",
              "      <td>liturgy</td>\n",
              "      <td>statesmanship</td>\n",
              "    </tr>\n",
              "    <tr>\n",
              "      <th>6</th>\n",
              "      <td>vocabulary</td>\n",
              "      <td>autonomy</td>\n",
              "      <td>doubt</td>\n",
              "      <td>extremists</td>\n",
              "      <td>soverignty</td>\n",
              "      <td>impinge</td>\n",
              "      <td>personal</td>\n",
              "      <td>inalienable</td>\n",
              "      <td>enforcement</td>\n",
              "      <td>aca</td>\n",
              "      <td>govenrment</td>\n",
              "      <td>stringent</td>\n",
              "      <td>oversight</td>\n",
              "      <td>eludes</td>\n",
              "      <td>politcial</td>\n",
              "      <td>cancelling</td>\n",
              "      <td>society</td>\n",
              "      <td>enshrine</td>\n",
              "      <td>geopolitically</td>\n",
              "      <td>autocracy</td>\n",
              "      <td>heritage</td>\n",
              "      <td>appointee</td>\n",
              "    </tr>\n",
              "    <tr>\n",
              "      <th>7</th>\n",
              "      <td>declarative</td>\n",
              "      <td>persuit</td>\n",
              "      <td>confide</td>\n",
              "      <td>islam</td>\n",
              "      <td>pasok</td>\n",
              "      <td>safety</td>\n",
              "      <td>privacy</td>\n",
              "      <td>riiiight</td>\n",
              "      <td>cops</td>\n",
              "      <td>socialize</td>\n",
              "      <td>govts</td>\n",
              "      <td>prioritization</td>\n",
              "      <td>boundary</td>\n",
              "      <td>grammatically</td>\n",
              "      <td>politics</td>\n",
              "      <td>canceled</td>\n",
              "      <td>homogeny</td>\n",
              "      <td>preamble</td>\n",
              "      <td>warheads</td>\n",
              "      <td>authoritarianism</td>\n",
              "      <td>traditional</td>\n",
              "      <td>competence</td>\n",
              "    </tr>\n",
              "    <tr>\n",
              "      <th>8</th>\n",
              "      <td>mincing</td>\n",
              "      <td>sovereignty</td>\n",
              "      <td>utahns</td>\n",
              "      <td>radicalism</td>\n",
              "      <td>indepence</td>\n",
              "      <td>opennic</td>\n",
              "      <td>recognizance</td>\n",
              "      <td>liberties</td>\n",
              "      <td>firefighter</td>\n",
              "      <td>obamacare</td>\n",
              "      <td>bureaucracy</td>\n",
              "      <td>gca</td>\n",
              "      <td>obligation</td>\n",
              "      <td>gramatically</td>\n",
              "      <td>expediency</td>\n",
              "      <td>expire</td>\n",
              "      <td>homogeneity</td>\n",
              "      <td>uphold</td>\n",
              "      <td>fission</td>\n",
              "      <td>neoliberal</td>\n",
              "      <td>chivalry</td>\n",
              "      <td>functionary</td>\n",
              "    </tr>\n",
              "    <tr>\n",
              "      <th>9</th>\n",
              "      <td>idiom</td>\n",
              "      <td>sacredness</td>\n",
              "      <td>peitions</td>\n",
              "      <td>islamics</td>\n",
              "      <td>tyrany</td>\n",
              "      <td>tutanota</td>\n",
              "      <td>property</td>\n",
              "      <td>freedoms</td>\n",
              "      <td>guardsman</td>\n",
              "      <td>insurance</td>\n",
              "      <td>federal</td>\n",
              "      <td>rollback</td>\n",
              "      <td>governmental</td>\n",
              "      <td>declarative</td>\n",
              "      <td>polarise</td>\n",
              "      <td>postpone</td>\n",
              "      <td>cultureless</td>\n",
              "      <td>constitutionally</td>\n",
              "      <td>counterinsurgency</td>\n",
              "      <td>dictatorial</td>\n",
              "      <td>catholicism</td>\n",
              "      <td>governance</td>\n",
              "    </tr>\n",
              "  </tbody>\n",
              "</table>\n",
              "</div>"
            ],
            "text/plain": [
              "          word        freedom  ...       tradition      leadership\n",
              "0       phrase        liberty  ...           judeo          leader\n",
              "1      meaning       freedoms  ...      observance        position\n",
              "2    quotation  individuality  ...  bastardisation           cabel\n",
              "3     phrasing           feee  ...           piety  administration\n",
              "4   adjectives      liberties  ...          judaic      transition\n",
              "5     verbiage           free  ...         liturgy   statesmanship\n",
              "6   vocabulary       autonomy  ...        heritage       appointee\n",
              "7  declarative        persuit  ...     traditional      competence\n",
              "8      mincing    sovereignty  ...        chivalry     functionary\n",
              "9        idiom     sacredness  ...     catholicism      governance\n",
              "\n",
              "[10 rows x 22 columns]"
            ]
          },
          "metadata": {
            "tags": []
          },
          "execution_count": 83
        }
      ]
    },
    {
      "cell_type": "code",
      "metadata": {
        "id": "MXyY5CrhnJFm"
      },
      "source": [
        "def similar_df(cbow_model, sg_model, word_list):\n",
        "\n",
        "  import pandas as pd\n",
        "\n",
        "  vocab_cbow = {}\n",
        "  vocab_sg = {}\n",
        "\n",
        "  for _ in word_list:\n",
        "      vocab_cbow[_] = cbow_model.most_similar(_)\n",
        "      vocab_sg[_] = sg_model.most_similar(_)\n",
        "\n",
        "  similar_cbow = {}\n",
        "  similar_sg = {}\n",
        "\n",
        "  for i in word_list:\n",
        "    similar_cbow[f'{i}'] = [vocab_cbow[i][j][0] for j in range(len(vocab_cbow[i]))]\n",
        "    similar_sg[f'{i}'] = [vocab_sg[i][j][0] for j in range(len(vocab_sg[i]))]\n",
        "\n",
        "  return pd.DataFrame(data = similar_cbow), pd.DataFrame(data = similar_sg)\n"
      ],
      "execution_count": null,
      "outputs": []
    },
    {
      "cell_type": "code",
      "metadata": {
        "colab": {
          "base_uri": "https://localhost:8080/"
        },
        "id": "1Se0a_hMpnHI",
        "outputId": "60b74938-5a57-4efa-bb2f-31a8fb153b04"
      },
      "source": [
        "hi, bye = similar_df(trump_cbow, trump_sg, words)\n",
        "\n",
        "hi.to_excel('trump_cbow.xlsx')"
      ],
      "execution_count": null,
      "outputs": [
        {
          "output_type": "stream",
          "text": [
            "/usr/local/lib/python3.7/dist-packages/ipykernel_launcher.py:9: DeprecationWarning: Call to deprecated `most_similar` (Method will be removed in 4.0.0, use self.wv.most_similar() instead).\n",
            "  if __name__ == '__main__':\n",
            "/usr/local/lib/python3.7/dist-packages/ipykernel_launcher.py:10: DeprecationWarning: Call to deprecated `most_similar` (Method will be removed in 4.0.0, use self.wv.most_similar() instead).\n",
            "  # Remove the CWD from sys.path while we load stuff.\n"
          ],
          "name": "stderr"
        }
      ]
    },
    {
      "cell_type": "code",
      "metadata": {
        "id": "myKFOusqqAyP"
      },
      "source": [
        "bye.to_excel('trump_sg.xlsx')"
      ],
      "execution_count": null,
      "outputs": []
    },
    {
      "cell_type": "code",
      "metadata": {
        "id": "YDDaz5WQ3oyi"
      },
      "source": [
        "def tsne_plot(model):\n",
        "    labels = []\n",
        "    wordvecs = []\n",
        "\n",
        "    for word in vocab:\n",
        "        wordvecs.append(model.wv[word])\n",
        "        labels.append(word)\n",
        "    \n",
        "    tsne_model = TSNE(perplexity=3, n_components=2, init='pca', random_state=0)\n",
        "    coordinates = tsne_model.fit_transform(wordvecs)\n",
        "\n",
        "    x = []\n",
        "    y = []\n",
        "    for value in coordinates:\n",
        "        x.append(value[0])\n",
        "        y.append(value[1])\n",
        "        \n",
        "    fig, axs = plt.subplots(figsize=(8,8))\n",
        "    axs.set_title('Word Clusters')\n",
        "    for i in range(len(x)):\n",
        "        plt.scatter(x[i],y[i])\n",
        "        plt.annotate(labels[i],\n",
        "                     xy=(x[i], y[i]),\n",
        "                     xytext=(2, 2),\n",
        "                     textcoords='offset points',\n",
        "                     ha='right',\n",
        "                     va='bottom')\n",
        "        \n",
        "    plt.show()"
      ],
      "execution_count": null,
      "outputs": []
    },
    {
      "cell_type": "code",
      "metadata": {
        "colab": {
          "base_uri": "https://localhost:8080/",
          "height": 500
        },
        "id": "V_AUXw3A3fBk",
        "outputId": "94d2725d-3042-4589-8aae-b54e28459393"
      },
      "source": [
        "vocab = ['word', 'freedom', 'trust', 'radical', 'democracy', 'privacy', 'safety',\n",
        "         'right','police','healthcare','government','restriction','accountability',\n",
        "         'correct','political','cancel','culture','constitution','conventional',\n",
        "         'authoritarian','tradition','leadership']\n",
        "\n",
        "tsne_plot(trump_cbow)"
      ],
      "execution_count": null,
      "outputs": [
        {
          "output_type": "display_data",
          "data": {
            "image/png": "[encoded data removed]",
            "text/plain": [
              "<Figure size 576x576 with 1 Axes>"
            ]
          },
          "metadata": {
            "tags": []
          }
        }
      ]
    },
    {
      "cell_type": "code",
      "metadata": {
        "colab": {
          "base_uri": "https://localhost:8080/",
          "height": 500
        },
        "id": "DySXRS7r5PcW",
        "outputId": "350f073d-91c8-47f6-b4f3-d04e5f0e5f6c"
      },
      "source": [
        "tsne_plot(trump_sg)"
      ],
      "execution_count": null,
      "outputs": [
        {
          "output_type": "display_data",
          "data": {
            "image/png": "[encoded data removed]",
            "text/plain": [
              "<Figure size 576x576 with 1 Axes>"
            ]
          },
          "metadata": {
            "tags": []
          }
        }
      ]
    }
  ]
}