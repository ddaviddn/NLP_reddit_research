{
  "nbformat": 4,
  "nbformat_minor": 0,
  "metadata": {
    "colab": {
      "name": "Final Project (Wiki).ipynb",
      "provenance": []
    },
    "kernelspec": {
      "name": "python3",
      "display_name": "Python 3"
    },
    "language_info": {
      "name": "python"
    }
  },
  "cells": [
    {
      "cell_type": "code",
      "metadata": {
        "colab": {
          "base_uri": "https://localhost:8080/"
        },
        "id": "aH_2lPv0qYFL",
        "outputId": "9fab44e9-068c-4aa2-c2eb-da8d2ffe5c87"
      },
      "source": [
        "import pandas as pd\n",
        "import numpy as np\n",
        "import matplotlib.pyplot as plt\n",
        "import os\n",
        "!pip install pickle5\n",
        "import pickle5 as pickle\n",
        "import pprint\n",
        "\n",
        "import gensim.models\n",
        "import gensim.downloader\n",
        "\n",
        "from sklearn.manifold import TSNE\n",
        "\n",
        "plt.style.use('ggplot')"
      ],
      "execution_count": null,
      "outputs": [
        {
          "output_type": "stream",
          "text": [
            "Requirement already satisfied: pickle5 in /usr/local/lib/python3.7/dist-packages (0.0.11)\n"
          ],
          "name": "stdout"
        }
      ]
    },
    {
      "cell_type": "code",
      "metadata": {
        "colab": {
          "base_uri": "https://localhost:8080/"
        },
        "id": "A5maUEbQ24BV",
        "outputId": "1e8232ff-0dcc-4121-dd8b-7aa7c8d3dad2"
      },
      "source": [
        "pprint.pprint(list(gensim.downloader.info()['models'].keys()))"
      ],
      "execution_count": null,
      "outputs": [
        {
          "output_type": "stream",
          "text": [
            "['fasttext-wiki-news-subwords-300',\n",
            " 'conceptnet-numberbatch-17-06-300',\n",
            " 'word2vec-ruscorpora-300',\n",
            " 'word2vec-google-news-300',\n",
            " 'glove-wiki-gigaword-50',\n",
            " 'glove-wiki-gigaword-100',\n",
            " 'glove-wiki-gigaword-200',\n",
            " 'glove-wiki-gigaword-300',\n",
            " 'glove-twitter-25',\n",
            " 'glove-twitter-50',\n",
            " 'glove-twitter-100',\n",
            " 'glove-twitter-200',\n",
            " '__testing_word2vec-matrix-synopsis']\n"
          ],
          "name": "stdout"
        }
      ]
    },
    {
      "cell_type": "code",
      "metadata": {
        "colab": {
          "base_uri": "https://localhost:8080/"
        },
        "id": "raYn3SHl3Bac",
        "outputId": "dcf65dc2-7e6f-4db7-c07c-9c8aed94f088"
      },
      "source": [
        "wiki_model = gensim.downloader.load('glove-wiki-gigaword-100')"
      ],
      "execution_count": null,
      "outputs": [
        {
          "output_type": "stream",
          "text": [
            "[==================================================] 100.0% 128.1/128.1MB downloaded\n"
          ],
          "name": "stdout"
        }
      ]
    },
    {
      "cell_type": "code",
      "metadata": {
        "id": "ZeXCCwkg4DOE"
      },
      "source": [
        "words = ['word', 'freedom', 'trust', 'radical', 'democracy', 'privacy', 'safety',\n",
        "         'right','police','healthcare','government','restriction','accountability',\n",
        "         'correct','political','cancel','culture','constitution','conventional',\n",
        "         'authoritarian','tradition','leadership']"
      ],
      "execution_count": null,
      "outputs": []
    },
    {
      "cell_type": "code",
      "metadata": {
        "id": "VtCUmd4G40gw"
      },
      "source": [
        "wiki_similar = {}\n",
        "\n",
        "for _ in words:\n",
        "    wiki_similar[_] = wiki_model.most_similar(_)\n"
      ],
      "execution_count": null,
      "outputs": []
    },
    {
      "cell_type": "code",
      "metadata": {
        "id": "YukXUpm_5LpO"
      },
      "source": [
        "all_words = {}\n",
        "\n",
        "for i in words:\n",
        "  all_words[f'{i}'] = [wiki_similar[i][j][0] for j in range(len(wiki_similar[i]))]\n",
        "\n"
      ],
      "execution_count": null,
      "outputs": []
    },
    {
      "cell_type": "code",
      "metadata": {
        "colab": {
          "base_uri": "https://localhost:8080/",
          "height": 379
        },
        "id": "ZgSTeabN5fof",
        "outputId": "aa4aa0c3-47b7-461a-be07-00a2c440eaeb"
      },
      "source": [
        "wiki_words = pd.DataFrame(all_words)\n",
        "wiki_words"
      ],
      "execution_count": null,
      "outputs": [
        {
          "output_type": "execute_result",
          "data": {
            "text/html": [
              "<div>\n",
              "<style scoped>\n",
              "    .dataframe tbody tr th:only-of-type {\n",
              "        vertical-align: middle;\n",
              "    }\n",
              "\n",
              "    .dataframe tbody tr th {\n",
              "        vertical-align: top;\n",
              "    }\n",
              "\n",
              "    .dataframe thead th {\n",
              "        text-align: right;\n",
              "    }\n",
              "</style>\n",
              "<table border=\"1\" class=\"dataframe\">\n",
              "  <thead>\n",
              "    <tr style=\"text-align: right;\">\n",
              "      <th></th>\n",
              "      <th>word</th>\n",
              "      <th>freedom</th>\n",
              "      <th>trust</th>\n",
              "      <th>radical</th>\n",
              "      <th>democracy</th>\n",
              "      <th>privacy</th>\n",
              "      <th>safety</th>\n",
              "      <th>right</th>\n",
              "      <th>police</th>\n",
              "      <th>healthcare</th>\n",
              "      <th>government</th>\n",
              "      <th>restriction</th>\n",
              "      <th>accountability</th>\n",
              "      <th>correct</th>\n",
              "      <th>political</th>\n",
              "      <th>cancel</th>\n",
              "      <th>culture</th>\n",
              "      <th>constitution</th>\n",
              "      <th>conventional</th>\n",
              "      <th>authoritarian</th>\n",
              "      <th>tradition</th>\n",
              "      <th>leadership</th>\n",
              "    </tr>\n",
              "  </thead>\n",
              "  <tbody>\n",
              "    <tr>\n",
              "      <th>0</th>\n",
              "      <td>phrase</td>\n",
              "      <td>freedoms</td>\n",
              "      <td>mutual</td>\n",
              "      <td>militant</td>\n",
              "      <td>freedom</td>\n",
              "      <td>protections</td>\n",
              "      <td>protection</td>\n",
              "      <td>if</td>\n",
              "      <td>officers</td>\n",
              "      <td>health</td>\n",
              "      <td>administration</td>\n",
              "      <td>restrictions</td>\n",
              "      <td>transparency</td>\n",
              "      <td>incorrect</td>\n",
              "      <td>politics</td>\n",
              "      <td>postpone</td>\n",
              "      <td>cultural</td>\n",
              "      <td>constitutional</td>\n",
              "      <td>types</td>\n",
              "      <td>autocratic</td>\n",
              "      <td>traditions</td>\n",
              "      <td>political</td>\n",
              "    </tr>\n",
              "    <tr>\n",
              "      <th>1</th>\n",
              "      <td>meaning</td>\n",
              "      <td>rights</td>\n",
              "      <td>fund</td>\n",
              "      <td>extremist</td>\n",
              "      <td>unity</td>\n",
              "      <td>liberties</td>\n",
              "      <td>security</td>\n",
              "      <td>back</td>\n",
              "      <td>policemen</td>\n",
              "      <td>care</td>\n",
              "      <td>governments</td>\n",
              "      <td>limitation</td>\n",
              "      <td>oversight</td>\n",
              "      <td>fix</td>\n",
              "      <td>leadership</td>\n",
              "      <td>canceling</td>\n",
              "      <td>cultures</td>\n",
              "      <td>amendment</td>\n",
              "      <td>sophisticated</td>\n",
              "      <td>dictatorial</td>\n",
              "      <td>traditional</td>\n",
              "      <td>leaders</td>\n",
              "    </tr>\n",
              "    <tr>\n",
              "      <th>2</th>\n",
              "      <td>words</td>\n",
              "      <td>democracy</td>\n",
              "      <td>trusts</td>\n",
              "      <td>islamist</td>\n",
              "      <td>independence</td>\n",
              "      <td>confidentiality</td>\n",
              "      <td>health</td>\n",
              "      <td>left</td>\n",
              "      <td>authorities</td>\n",
              "      <td>services</td>\n",
              "      <td>officials</td>\n",
              "      <td>restricting</td>\n",
              "      <td>governance</td>\n",
              "      <td>wrong</td>\n",
              "      <td>social</td>\n",
              "      <td>canceled</td>\n",
              "      <td>traditions</td>\n",
              "      <td>rule</td>\n",
              "      <td>use</td>\n",
              "      <td>repressive</td>\n",
              "      <td>history</td>\n",
              "      <td>support</td>\n",
              "    </tr>\n",
              "    <tr>\n",
              "      <th>3</th>\n",
              "      <td>name</td>\n",
              "      <td>liberty</td>\n",
              "      <td>foundation</td>\n",
              "      <td>movement</td>\n",
              "      <td>political</td>\n",
              "      <td>protection</td>\n",
              "      <td>standards</td>\n",
              "      <td>way</td>\n",
              "      <td>arrested</td>\n",
              "      <td>medicare</td>\n",
              "      <td>authorities</td>\n",
              "      <td>limiting</td>\n",
              "      <td>fairness</td>\n",
              "      <td>corrected</td>\n",
              "      <td>democratic</td>\n",
              "      <td>cancellation</td>\n",
              "      <td>tradition</td>\n",
              "      <td>law</td>\n",
              "      <td>standard</td>\n",
              "      <td>totalitarian</td>\n",
              "      <td>culture</td>\n",
              "      <td>party</td>\n",
              "    </tr>\n",
              "    <tr>\n",
              "      <th>4</th>\n",
              "      <td>language</td>\n",
              "      <td>independence</td>\n",
              "      <td>public</td>\n",
              "      <td>islamic</td>\n",
              "      <td>movement</td>\n",
              "      <td>rights</td>\n",
              "      <td>environmental</td>\n",
              "      <td>put</td>\n",
              "      <td>guards</td>\n",
              "      <td>medical</td>\n",
              "      <td>opposition</td>\n",
              "      <td>requirement</td>\n",
              "      <td>integrity</td>\n",
              "      <td>appropriate</td>\n",
              "      <td>opposition</td>\n",
              "      <td>reschedule</td>\n",
              "      <td>religion</td>\n",
              "      <td>amendments</td>\n",
              "      <td>modern</td>\n",
              "      <td>regime</td>\n",
              "      <td>religious</td>\n",
              "      <td>position</td>\n",
              "    </tr>\n",
              "    <tr>\n",
              "      <th>5</th>\n",
              "      <td>literally</td>\n",
              "      <td>equality</td>\n",
              "      <td>funds</td>\n",
              "      <td>fundamentalist</td>\n",
              "      <td>opposition</td>\n",
              "      <td>workplace</td>\n",
              "      <td>problems</td>\n",
              "      <td>out</td>\n",
              "      <td>policeman</td>\n",
              "      <td>insurance</td>\n",
              "      <td>saying</td>\n",
              "      <td>limits</td>\n",
              "      <td>compliance</td>\n",
              "      <td>correcting</td>\n",
              "      <td>party</td>\n",
              "      <td>suspend</td>\n",
              "      <td>history</td>\n",
              "      <td>amended</td>\n",
              "      <td>unlike</td>\n",
              "      <td>regimes</td>\n",
              "      <td>religion</td>\n",
              "      <td>leader</td>\n",
              "    </tr>\n",
              "    <tr>\n",
              "      <th>6</th>\n",
              "      <td>names</td>\n",
              "      <td>dignity</td>\n",
              "      <td>property</td>\n",
              "      <td>radicals</td>\n",
              "      <td>peace</td>\n",
              "      <td>copyright</td>\n",
              "      <td>control</td>\n",
              "      <td>but</td>\n",
              "      <td>officials</td>\n",
              "      <td>education</td>\n",
              "      <td>official</td>\n",
              "      <td>prohibitions</td>\n",
              "      <td>discipline</td>\n",
              "      <td>explain</td>\n",
              "      <td>legal</td>\n",
              "      <td>cancelling</td>\n",
              "      <td>society</td>\n",
              "      <td>amend</td>\n",
              "      <td>using</td>\n",
              "      <td>despotic</td>\n",
              "      <td>faith</td>\n",
              "      <td>administration</td>\n",
              "    </tr>\n",
              "    <tr>\n",
              "      <th>7</th>\n",
              "      <td>text</td>\n",
              "      <td>liberties</td>\n",
              "      <td>investment</td>\n",
              "      <td>hardline</td>\n",
              "      <td>freedoms</td>\n",
              "      <td>laws</td>\n",
              "      <td>personnel</td>\n",
              "      <td>n't</td>\n",
              "      <td>soldiers</td>\n",
              "      <td>provider</td>\n",
              "      <td>country</td>\n",
              "      <td>limit</td>\n",
              "      <td>reform</td>\n",
              "      <td>change</td>\n",
              "      <td>influence</td>\n",
              "      <td>cancelled</td>\n",
              "      <td>civilization</td>\n",
              "      <td>laws</td>\n",
              "      <td>type</td>\n",
              "      <td>oppressive</td>\n",
              "      <td>ancient</td>\n",
              "      <td>responsibility</td>\n",
              "    </tr>\n",
              "    <tr>\n",
              "      <th>8</th>\n",
              "      <td>means</td>\n",
              "      <td>respect</td>\n",
              "      <td>insurance</td>\n",
              "      <td>leftist</td>\n",
              "      <td>peaceful</td>\n",
              "      <td>protected</td>\n",
              "      <td>quality</td>\n",
              "      <td>just</td>\n",
              "      <td>riot</td>\n",
              "      <td>providers</td>\n",
              "      <td>promised</td>\n",
              "      <td>prohibited</td>\n",
              "      <td>standards</td>\n",
              "      <td>answer</td>\n",
              "      <td>policy</td>\n",
              "      <td>plans</td>\n",
              "      <td>art</td>\n",
              "      <td>legislation</td>\n",
              "      <td>expensive</td>\n",
              "      <td>tyrannical</td>\n",
              "      <td>belief</td>\n",
              "      <td>policy</td>\n",
              "    </tr>\n",
              "    <tr>\n",
              "      <th>9</th>\n",
              "      <td>simply</td>\n",
              "      <td>free</td>\n",
              "      <td>institution</td>\n",
              "      <td>left-wing</td>\n",
              "      <td>pluralism</td>\n",
              "      <td>disclosure</td>\n",
              "      <td>inspection</td>\n",
              "      <td>not</td>\n",
              "      <td>armed</td>\n",
              "      <td>medicaid</td>\n",
              "      <td>military</td>\n",
              "      <td>bans</td>\n",
              "      <td>judicial</td>\n",
              "      <td>determine</td>\n",
              "      <td>leaders</td>\n",
              "      <td>defer</td>\n",
              "      <td>politics</td>\n",
              "      <td>legislature</td>\n",
              "      <td>existing</td>\n",
              "      <td>lukashenko</td>\n",
              "      <td>beliefs</td>\n",
              "      <td>coalition</td>\n",
              "    </tr>\n",
              "  </tbody>\n",
              "</table>\n",
              "</div>"
            ],
            "text/plain": [
              "        word       freedom  ...    tradition      leadership\n",
              "0     phrase      freedoms  ...   traditions       political\n",
              "1    meaning        rights  ...  traditional         leaders\n",
              "2      words     democracy  ...      history         support\n",
              "3       name       liberty  ...      culture           party\n",
              "4   language  independence  ...    religious        position\n",
              "5  literally      equality  ...     religion          leader\n",
              "6      names       dignity  ...        faith  administration\n",
              "7       text     liberties  ...      ancient  responsibility\n",
              "8      means       respect  ...       belief          policy\n",
              "9     simply          free  ...      beliefs       coalition\n",
              "\n",
              "[10 rows x 22 columns]"
            ]
          },
          "metadata": {
            "tags": []
          },
          "execution_count": 18
        }
      ]
    },
    {
      "cell_type": "code",
      "metadata": {
        "id": "FX8I5PkzD_gh"
      },
      "source": [
        "wiki_words.to_excel('wiki_similar_words.xlsx')"
      ],
      "execution_count": null,
      "outputs": []
    },
    {
      "cell_type": "code",
      "metadata": {
        "id": "bgP7syqL7jpJ"
      },
      "source": [
        "def tsne_plot(model, vocab):\n",
        "    labels = []\n",
        "    wordvecs = []\n",
        "\n",
        "    for word in vocab:\n",
        "        wordvecs.append(model.wv[word])\n",
        "        labels.append(word)\n",
        "    \n",
        "    tsne_model = TSNE(perplexity=3, n_components=2, init='pca', random_state=0)\n",
        "    coordinates = tsne_model.fit_transform(wordvecs)\n",
        "\n",
        "    x = []\n",
        "    y = []\n",
        "    for value in coordinates:\n",
        "        x.append(value[0])\n",
        "        y.append(value[1])\n",
        "        \n",
        "    fig, axs = plt.subplots(figsize=(8,8))\n",
        "    axs.set_title('Word Clusters')\n",
        "    for i in range(len(x)):\n",
        "        plt.scatter(x[i],y[i])\n",
        "        plt.annotate(labels[i],\n",
        "                     xy=(x[i], y[i]),\n",
        "                     xytext=(2, 2),\n",
        "                     textcoords='offset points',\n",
        "                     ha='right',\n",
        "                     va='bottom')\n",
        "        \n",
        "    plt.show()"
      ],
      "execution_count": null,
      "outputs": []
    },
    {
      "cell_type": "code",
      "metadata": {
        "colab": {
          "base_uri": "https://localhost:8080/",
          "height": 554
        },
        "id": "MtGv8gw47kVZ",
        "outputId": "c8cd5814-571d-4b8c-db07-1b9738a8f7cf"
      },
      "source": [
        "tsne_plot(wiki_model, words)"
      ],
      "execution_count": null,
      "outputs": [
        {
          "output_type": "stream",
          "text": [
            "/usr/local/lib/python3.7/dist-packages/ipykernel_launcher.py:6: DeprecationWarning: Call to deprecated `wv` (Attribute will be removed in 4.0.0, use self instead).\n",
            "  \n"
          ],
          "name": "stderr"
        },
        {
          "output_type": "display_data",
          "data": {
            "image/png": "[encoded data removed]",
            "text/plain": [
              "<Figure size 576x576 with 1 Axes>"
            ]
          },
          "metadata": {
            "tags": []
          }
        }
      ]
    }
  ]
}